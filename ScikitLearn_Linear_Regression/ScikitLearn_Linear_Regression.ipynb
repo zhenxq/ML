{
 "cells": [
  {
   "cell_type": "markdown",
   "metadata": {},
   "source": [
    " # Linear regression  && Multiple Linear Regression\n",
    " \n",
    " ## Target\n",
    "1. Linear regression：Use linear regression to make prediction on life expectancy from [body mass index (BMI)](https://en.wikipedia.org/wiki/Body_mass_index) from birth.\n",
    "2. Multiple Linear Regression：Using the Boston house-prices dataset. The dataset consists of 13 features of 506 houses and their median value in $1000's. Need to fit a model on the 13 features to predict on the value of houses."
   ]
  },
  {
   "cell_type": "markdown",
   "metadata": {},
   "source": [
    "## 1：Linear regression:Prediction on life expectancy from body mass index (BMI)\n",
    "## Data\n",
    "The data comes from [Gapminder](https://www.gapminder.org/)."
   ]
  },
  {
   "cell_type": "markdown",
   "metadata": {},
   "source": [
    "## Python model tools\n",
    "1. scikit-learn's\n",
    "    - [LinearRegression](http://scikit-learn.org/stable/modules/generated/sklearn.linear_model.LinearRegression.html)\n",
    "    - [fit()](http://scikit-learn.org/stable/modules/generated/sklearn.linear_model.LinearRegression.html#sklearn.linear_model.LinearRegression.fit)\n",
    "    - [predict()](http://scikit-learn.org/stable/modules/generated/sklearn.linear_model.LinearRegression.html#sklearn.linear_model.LinearRegression.predict)\n",
    "    \n",
    "2. pandas \n",
    "3. matplotlib"
   ]
  },
  {
   "cell_type": "raw",
   "metadata": {},
   "source": [
    ">>> from sklearn.linear_model import LinearRegression\n",
    ">>> model = LinearRegression()\n",
    ">>> model.fit(x_values, y_values)\n",
    "\n",
    ">>> print(model.predict([ [127], [248] ]))\n",
    "[[ 438.94308857, 127.14839521]]"
   ]
  },
  {
   "cell_type": "code",
   "execution_count": 11,
   "metadata": {
    "collapsed": false,
    "scrolled": true
   },
   "outputs": [
    {
     "name": "stdout",
     "output_type": "stream",
     "text": [
      "(163, 1)\n",
      "(163, 1)\n"
     ]
    },
    {
     "data": {
      "image/png": "[encoded data removed]",
      "text/plain": [
       "<matplotlib.figure.Figure at 0x136bb58e518>"
      ]
     },
     "metadata": {},
     "output_type": "display_data"
    },
    {
     "name": "stdout",
     "output_type": "stream",
     "text": [
      "[[ 60.31564716]]\n"
     ]
    }
   ],
   "source": [
    "import pandas as pd\n",
    "from sklearn.linear_model import LinearRegression\n",
    "import matplotlib.pyplot as plt\n",
    "\n",
    "plt.title(u\"BMI / Life expectancy\")\n",
    "bmi_dataframe = pd.read_csv(\"bmi_and_life_expectancy.csv\")\n",
    "bmi_reg = LinearRegression()\n",
    "x_values = bmi_dataframe[['BMI']]  \n",
    "y_values = bmi_dataframe[['Life expectancy']]\n",
    "bmi_reg.fit(x_values,y_values)  # 线性回归拟合模型\n",
    "print(x_values.shape)\n",
    "print(y_values.shape)\n",
    "plt.scatter(x_values,y_values)\n",
    "plt.plot(x_values, bmi_reg.predict(x_values))  # 通过拟合模型，通过x axis得到预测数据点\n",
    "plt.show()\n",
    "\n",
    "print(bmi_reg.predict(21.07931))  # 预测一个BMI对应的寿命"
   ]
  },
  {
   "cell_type": "markdown",
   "metadata": {},
   "source": [
    "## 2:Multiple Linear Regression"
   ]
  },
  {
   "cell_type": "code",
   "execution_count": 13,
   "metadata": {
    "collapsed": false
   },
   "outputs": [
    {
     "name": "stdout",
     "output_type": "stream",
     "text": [
      "(506, 13)\n",
      "(506,)\n",
      "[ 23.68420569]\n"
     ]
    }
   ],
   "source": [
    "from sklearn.linear_model import LinearRegression\n",
    "from sklearn.datasets import load_boston  # 获取数据集合\n",
    "\n",
    "boston_data = load_boston()\n",
    "x = boston_data['data']\n",
    "y = boston_data['target']\n",
    "print(x.shape)\n",
    "print(y.shape)\n",
    "\n",
    "model = LinearRegression()  # 创建和拟合线性回归模型\n",
    "model.fit(x, y)  # 训练数据\n",
    "\n",
    "#  通过数据，进行预测\n",
    "sample_house = [[2.29690000e-01, 0.00000000e+00, 1.05900000e+01, 0.00000000e+00, 4.89000000e-01,\n",
    "                6.32600000e+00, 5.25000000e+01, 4.35490000e+00, 4.00000000e+00, 2.77000000e+02,\n",
    "                1.86000000e+01, 3.94870000e+02, 1.09700000e+01]]\n",
    "# TODO: 预测结果\n",
    "prediction = model.predict(sample_house)\n",
    "print(prediction)"
   ]
  }
 ],
 "metadata": {
  "kernelspec": {
   "display_name": "Python 3",
   "language": "python",
   "name": "python3"
  },
  "language_info": {
   "codemirror_mode": {
    "name": "ipython",
    "version": 3
   },
   "file_extension": ".py",
   "mimetype": "text/x-python",
   "name": "python",
   "nbconvert_exporter": "python",
   "pygments_lexer": "ipython3",
   "version": "3.6.0"
  }
 },
 "nbformat": 4,
 "nbformat_minor": 2
}
