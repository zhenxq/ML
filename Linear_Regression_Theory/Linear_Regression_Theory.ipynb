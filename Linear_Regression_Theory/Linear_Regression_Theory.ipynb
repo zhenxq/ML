{
 "cells": [
  {
   "cell_type": "markdown",
   "metadata": {
    "collapsed": false
   },
   "source": [
    "# Linear Regression"
   ]
  },
  {
   "cell_type": "markdown",
   "metadata": {},
   "source": [
    "## 线性方程\n",
    "$y = mx + b$ \n",
    "- 通过MSE调整m和b\n",
    "\n",
    "### MSE均方误差：\n",
    "\n",
    "- 均方误差：预测值和真实值的偏差\n",
    "\n",
    "<img src=\"./MSE.png\" alt=\"MSE公式\" width=\"30%\" height=\"25%\" >"
   ]
  },
  {
   "cell_type": "markdown",
   "metadata": {},
   "source": [
    "### Gradient Descent 梯度下降：\n",
    "\n",
    "- 线性方程y=mx+b，不同的系数m 和 b ,对真实数据点有不用的MSE\n",
    "- 对MSE中的系数m,b分别求导，找到MSE下降最快的方向，即MSE下降最快，数值最小的方向，从而误差最小。\n",
    "\n",
    "<img src=\"./m_b_gradient.png\" alt=\"mse_gradient_descent\" width=60% >"
   ]
  },
  {
   "cell_type": "code",
   "execution_count": 3,
   "metadata": {
    "collapsed": false
   },
   "outputs": [
    {
     "data": {
      "image/png": "[encoded data removed]",
      "text/plain": [
       "<matplotlib.figure.Figure at 0x7f1c7b8>"
      ]
     },
     "metadata": {},
     "output_type": "display_data"
    },
    {
     "name": "stdout",
     "output_type": "stream",
     "text": [
      "Start linear regression：y=0x+0, MSE=5565.107834483211\n"
     ]
    },
    {
     "data": {
      "image/png": "[encoded data removed]",
      "text/plain": [
       "<matplotlib.figure.Figure at 0x8324128>"
      ]
     },
     "metadata": {},
     "output_type": "display_data"
    },
    {
     "name": "stdout",
     "output_type": "stream",
     "text": [
      "End linear regression：y=1.4774173755483797x+0.02963934787473239, MSE=112.65585181499746\n"
     ]
    }
   ],
   "source": [
    "import numpy as np\n",
    "import matplotlib.pyplot as plt\n",
    "\n",
    "\n",
    "def MSE_LinearReg(m,b,dataset):\n",
    "    \"\"\" 查看MSE，绘制拟合线性模型\n",
    "    \"\"\"\n",
    "    \n",
    "    x_list = []\n",
    "    y_list = []\n",
    "    \n",
    "    se_sum = 0\n",
    "    for i in range(0,len(dataset)):\n",
    "        x = dataset[i,0]  # 第i行，第0列的数据，或者dataset[0][0])\n",
    "        y = dataset[i,1]\n",
    "        plt.plot(x,y,\"ro\") # plt.scatter(x,y,color=\"r\")\n",
    "        se_sum += (y - (m * x + b)) ** 2\n",
    "        \n",
    "        x_list.append(x)  # 拟合线 y =m*x+b\n",
    "        y_list.append(m*x+b)\n",
    "    \n",
    "    plt.plot(x_list,y_list, 'c-',label=\"y={m}x+{b}\".format(m=m,b=b))  \n",
    "    plt.legend()\n",
    "    plt.show()\n",
    "    return se_sum/float(len(dataset))\n",
    "\n",
    "\n",
    "def Gradient_Step(m, b, dataset, learning_rate):\n",
    "    \"\"\"求y=mx+b的MSE的梯度下降，使得MSE变小（误差变小），从而得到合适的系数m和b\n",
    "    通过learning_rate， 控制梯度下降的步伐\n",
    "    \"\"\"\n",
    "    m_gradient = 0  # m在MSE中的导数 \n",
    "    b_gradient = 0  # b在MSE中的导数\n",
    "    dataset_len = float(len(dataset))\n",
    "    for i in range(0,len(dataset)):\n",
    "        x,y = dataset[i,0],dataset[i,1]\n",
    "        m_gradient += -2/dataset_len *x*(y - (m * x + b))  \n",
    "        b_gradient += -2/dataset_len * (y - (m * x + b))\n",
    "    new_m = m - learning_rate*m_gradient\n",
    "    new_b = b - learning_rate*b_gradient\n",
    "    return new_m,new_b\n",
    "    \n",
    "def GradientDescent_LinearReg_MSE(m, b, dataset,learning_rate, num_iterations):\n",
    "    \"\"\"通过num_iterations次迭代，使得梯度下降稳定在合适的位置，得到最小的MSE，同时获得最好的m,b。\n",
    "    \"\"\"\n",
    "    for i in range(num_iterations):\n",
    "        m,b = Gradient_Step(m, b, dataset, learning_rate) # 每次迭代，都更新m,b\n",
    "    return m, b \n",
    "\n",
    "def run():\n",
    "    dataset = np.genfromtxt(\"data.csv\", delimiter=\",\")  # 返回的是numpy.ndarray 包含(x,y)点的数据集合\n",
    "    learning_rate = 0.0001  # 梯段下降速率\n",
    "    initial_m,initial_b = 0,0  # y = mx + b\n",
    "    num_iterations = 10  # 迭代次数，每一次梯度下降的调整次数\n",
    "    print(\"Start linear regression：y={m}x+{b}, MSE={mse}\".format(m=initial_m, b=initial_b, mse=MSE_LinearReg(initial_m,initial_b,dataset)))\n",
    "    m,b = GradientDescent_LinearReg_MSE(initial_m,initial_b,dataset,learning_rate, num_iterations)\n",
    "    print(\"End linear regression：y={m}x+{b}, MSE={mse}\".format(m=m, b=b, mse=MSE_LinearReg(m,b,dataset)))\n",
    "run()"
   ]
  }
 ],
 "metadata": {
  "kernelspec": {
   "display_name": "Python 3",
   "language": "python",
   "name": "python3"
  },
  "language_info": {
   "codemirror_mode": {
    "name": "ipython",
    "version": 3
   },
   "file_extension": ".py",
   "mimetype": "text/x-python",
   "name": "python",
   "nbconvert_exporter": "python",
   "pygments_lexer": "ipython3",
   "version": "3.6.0"
  }
 },
 "nbformat": 4,
 "nbformat_minor": 2
}
